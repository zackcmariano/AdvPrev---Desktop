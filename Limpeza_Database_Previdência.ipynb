{
  "nbformat": 4,
  "nbformat_minor": 0,
  "metadata": {
    "colab": {
      "name": "Limpeza Database Previdência",
      "provenance": [],
      "collapsed_sections": [],
      "toc_visible": true,
      "authorship_tag": "ABX9TyODtYRcbmViPqgSao7XCI3b",
      "include_colab_link": true
    },
    "kernelspec": {
      "display_name": "Python 3",
      "name": "python3"
    }
  },
  "cells": [
    {
      "cell_type": "markdown",
      "metadata": {
        "id": "view-in-github",
        "colab_type": "text"
      },
      "source": [
        "<a href=\"https://colab.research.google.com/github/zackcmariano/AdvPrev---Desktop/blob/main/Limpeza_Database_Previd%C3%AAncia.ipynb\" target=\"_parent\"><img src=\"https://colab.research.google.com/assets/colab-badge.svg\" alt=\"Open In Colab\"/></a>"
      ]
    },
    {
      "cell_type": "markdown",
      "metadata": {
        "id": "Z8AvUsIrNQUL"
      },
      "source": [
        "##Limpando os Dados:\n",
        "\n",
        "\n",
        "**Fonte dos dados Previdenciários:** https://dados.gov.br/dataset/inss-beneficios-indeferidos"
      ]
    },
    {
      "cell_type": "code",
      "metadata": {
        "id": "1wE6bStA-1lz"
      },
      "source": [
        "#IMPORTANDO AS BIBLIOTECAS\n",
        "\n",
        "import pandas as pd\n",
        "import numpy as np"
      ],
      "execution_count": 1,
      "outputs": []
    },
    {
      "cell_type": "code",
      "metadata": {
        "id": "meBk73g9_SPM"
      },
      "source": [
        "#CARREGANDO O ARQUIVO ORIGINAL E DELIMITANDO AS COLUNAS\n",
        "bnf = pd.read_csv('https://raw.githubusercontent.com/zackcmariano/AdvPrev---Desktop/main/Obten%C3%A7%C3%A3o%20e%20Limpeza%20(database)/beneficios-indeferidos-12-2020.csv', delimiter=';', names=list(range(9)))"
      ],
      "execution_count": 2,
      "outputs": []
    },
    {
      "cell_type": "code",
      "metadata": {
        "id": "7guNOXSB_c9y"
      },
      "source": [
        "#RENOMEANDO AS COLUNAS\n",
        "bnf.rename(columns={0:'Competência',1:'Espécie',2:'Motivo',3:'Nascimento',\n",
        "                   4:'Sexo',5:'Moradia',6:'Filiação',7:'UF',\n",
        "                   8:'Indeferimento'}, inplace = True)"
      ],
      "execution_count": 3,
      "outputs": []
    },
    {
      "cell_type": "code",
      "metadata": {
        "colab": {
          "base_uri": "https://localhost:8080/",
          "height": 264
        },
        "id": "w17dSxyhE0zX",
        "outputId": "84c6da7a-b03e-4a71-d507-25f5a447d432"
      },
      "source": [
        "#ANALISANDO AS PRIMEIRAS ENTRADAS\n",
        "bnf.head()"
      ],
      "execution_count": 4,
      "outputs": [
        {
          "output_type": "execute_result",
          "data": {
            "text/html": [
              "<div>\n",
              "<style scoped>\n",
              "    .dataframe tbody tr th:only-of-type {\n",
              "        vertical-align: middle;\n",
              "    }\n",
              "\n",
              "    .dataframe tbody tr th {\n",
              "        vertical-align: top;\n",
              "    }\n",
              "\n",
              "    .dataframe thead th {\n",
              "        text-align: right;\n",
              "    }\n",
              "</style>\n",
              "<table border=\"1\" class=\"dataframe\">\n",
              "  <thead>\n",
              "    <tr style=\"text-align: right;\">\n",
              "      <th></th>\n",
              "      <th>Competência</th>\n",
              "      <th>Espécie</th>\n",
              "      <th>Motivo</th>\n",
              "      <th>Nascimento</th>\n",
              "      <th>Sexo</th>\n",
              "      <th>Moradia</th>\n",
              "      <th>Filiação</th>\n",
              "      <th>UF</th>\n",
              "      <th>Indeferimento</th>\n",
              "    </tr>\n",
              "  </thead>\n",
              "  <tbody>\n",
              "    <tr>\n",
              "      <th>0</th>\n",
              "      <td>Competência indeferimento</td>\n",
              "      <td>Espécie</td>\n",
              "      <td>Motivo Indeferimento</td>\n",
              "      <td>Dt Nascimento</td>\n",
              "      <td>Sexo.</td>\n",
              "      <td>Clientela</td>\n",
              "      <td>Forma Filiação</td>\n",
              "      <td>UF</td>\n",
              "      <td>Dt Indeferimento</td>\n",
              "    </tr>\n",
              "    <tr>\n",
              "      <th>1</th>\n",
              "      <td>01/12/2020</td>\n",
              "      <td>Aposentadoria por Idade</td>\n",
              "      <td>Falta Periodo Carencia (B41,42,46,57,80)</td>\n",
              "      <td>08/01/1957</td>\n",
              "      <td>Feminino</td>\n",
              "      <td>Urbano</td>\n",
              "      <td>Autônomo</td>\n",
              "      <td>Alagoas</td>\n",
              "      <td>02/12/2020</td>\n",
              "    </tr>\n",
              "    <tr>\n",
              "      <th>2</th>\n",
              "      <td>01/12/2020</td>\n",
              "      <td>Aposentadoria por Tempo de Contribuição</td>\n",
              "      <td>Falta Tempo Contrib Ate 16/12/1998 ou Até Der</td>\n",
              "      <td>15/02/1965</td>\n",
              "      <td>Masculino</td>\n",
              "      <td>Urbano</td>\n",
              "      <td>Empregado</td>\n",
              "      <td>Alagoas</td>\n",
              "      <td>02/12/2020</td>\n",
              "    </tr>\n",
              "    <tr>\n",
              "      <th>3</th>\n",
              "      <td>01/12/2020</td>\n",
              "      <td>Aposentadoria por Tempo de Contribuição</td>\n",
              "      <td>Falta Tempo Contrib Ate 16/12/1998 ou Até Der</td>\n",
              "      <td>16/06/1963</td>\n",
              "      <td>Masculino</td>\n",
              "      <td>Urbano</td>\n",
              "      <td>Empregado</td>\n",
              "      <td>Alagoas</td>\n",
              "      <td>02/12/2020</td>\n",
              "    </tr>\n",
              "    <tr>\n",
              "      <th>4</th>\n",
              "      <td>01/12/2020</td>\n",
              "      <td>Aposentadoria por Idade</td>\n",
              "      <td>Recebimento Outro Beneficio</td>\n",
              "      <td>27/10/1947</td>\n",
              "      <td>Feminino</td>\n",
              "      <td>Urbano</td>\n",
              "      <td>Facultativo</td>\n",
              "      <td>Alagoas</td>\n",
              "      <td>01/12/2020</td>\n",
              "    </tr>\n",
              "  </tbody>\n",
              "</table>\n",
              "</div>"
            ],
            "text/plain": [
              "                 Competência  ...     Indeferimento\n",
              "0  Competência indeferimento  ...  Dt Indeferimento\n",
              "1                 01/12/2020  ...        02/12/2020\n",
              "2                 01/12/2020  ...        02/12/2020\n",
              "3                 01/12/2020  ...        02/12/2020\n",
              "4                 01/12/2020  ...        01/12/2020\n",
              "\n",
              "[5 rows x 9 columns]"
            ]
          },
          "metadata": {
            "tags": []
          },
          "execution_count": 4
        }
      ]
    },
    {
      "cell_type": "code",
      "metadata": {
        "id": "PqQqsuYPX-um"
      },
      "source": [
        "#EXCLUINDO A PRIMEIRA LINHA \n",
        "bnf_inss = bnf.drop(0)"
      ],
      "execution_count": 7,
      "outputs": []
    },
    {
      "cell_type": "code",
      "metadata": {
        "colab": {
          "base_uri": "https://localhost:8080/"
        },
        "id": "iVEK1wjzqY0x",
        "outputId": "c4cb00a7-74ca-4bce-eafe-3ea2cb0c8ab0"
      },
      "source": [
        "#ESTADOS COM MAIS INDEFERIDOS\n",
        "bnf_inss['UF'].value_counts().head(5)"
      ],
      "execution_count": 10,
      "outputs": [
        {
          "output_type": "execute_result",
          "data": {
            "text/plain": [
              "Distrito Federal     84450\n",
              "São Paulo            68493\n",
              "Minas Gerais         33464\n",
              "Rio Grande do Sul    26534\n",
              "Bahia                21837\n",
              "Name: UF, dtype: int64"
            ]
          },
          "metadata": {
            "tags": []
          },
          "execution_count": 10
        }
      ]
    },
    {
      "cell_type": "code",
      "metadata": {
        "colab": {
          "base_uri": "https://localhost:8080/"
        },
        "id": "4EDmSTjXqww5",
        "outputId": "57db9884-6848-4a72-efae-190611205577"
      },
      "source": [
        "#RANKING DOS MOTIVOS\n",
        "bnf_inss['Motivo'].value_counts().head(5)"
      ],
      "execution_count": 12,
      "outputs": [
        {
          "output_type": "execute_result",
          "data": {
            "text/plain": [
              "Parecer Contrario Pericia Medica                                                                        51311\n",
              "Falta de Requisitos p/Direito Às Regras de Transição Emenda Constitucional No.103 ou Falta de Direit    29387\n",
              "Não Apresentação ou Conformação dos Dados Contidos no Atestado Médico                                   22595\n",
              "Nao Enquadramento Art 20 §3 Lei 8742/93.                                                                21560\n",
              "Falta Periodo de Inscricao ou Atualizacao dos Dados do Cad Unico.                                       21227\n",
              "Name: Motivo, dtype: int64"
            ]
          },
          "metadata": {
            "tags": []
          },
          "execution_count": 12
        }
      ]
    },
    {
      "cell_type": "code",
      "metadata": {
        "colab": {
          "base_uri": "https://localhost:8080/",
          "height": 264
        },
        "id": "q3AZ1t76YxN7",
        "outputId": "8a16308a-24c0-4a8c-8b52-cab16dc8cd2a"
      },
      "source": [
        "#LIMPEZA CONCLUÍDA\n",
        "bnf_inss.head()"
      ],
      "execution_count": null,
      "outputs": [
        {
          "output_type": "execute_result",
          "data": {
            "text/html": [
              "<div>\n",
              "<style scoped>\n",
              "    .dataframe tbody tr th:only-of-type {\n",
              "        vertical-align: middle;\n",
              "    }\n",
              "\n",
              "    .dataframe tbody tr th {\n",
              "        vertical-align: top;\n",
              "    }\n",
              "\n",
              "    .dataframe thead th {\n",
              "        text-align: right;\n",
              "    }\n",
              "</style>\n",
              "<table border=\"1\" class=\"dataframe\">\n",
              "  <thead>\n",
              "    <tr style=\"text-align: right;\">\n",
              "      <th></th>\n",
              "      <th>Competência</th>\n",
              "      <th>Espécie</th>\n",
              "      <th>Motivo</th>\n",
              "      <th>Nascimento</th>\n",
              "      <th>Sexo</th>\n",
              "      <th>Moradia</th>\n",
              "      <th>Filiação</th>\n",
              "      <th>UF</th>\n",
              "      <th>Indeferimento</th>\n",
              "    </tr>\n",
              "  </thead>\n",
              "  <tbody>\n",
              "    <tr>\n",
              "      <th>1</th>\n",
              "      <td>01/12/2020</td>\n",
              "      <td>Aposentadoria por Idade</td>\n",
              "      <td>Falta Periodo Carencia (B41,42,46,57,80)</td>\n",
              "      <td>08/01/1957</td>\n",
              "      <td>Feminino</td>\n",
              "      <td>Urbano</td>\n",
              "      <td>Autônomo</td>\n",
              "      <td>Alagoas</td>\n",
              "      <td>02/12/2020</td>\n",
              "    </tr>\n",
              "    <tr>\n",
              "      <th>2</th>\n",
              "      <td>01/12/2020</td>\n",
              "      <td>Aposentadoria por Tempo de Contribuição</td>\n",
              "      <td>Falta Tempo Contrib Ate 16/12/1998 ou Até Der</td>\n",
              "      <td>15/02/1965</td>\n",
              "      <td>Masculino</td>\n",
              "      <td>Urbano</td>\n",
              "      <td>Empregado</td>\n",
              "      <td>Alagoas</td>\n",
              "      <td>02/12/2020</td>\n",
              "    </tr>\n",
              "    <tr>\n",
              "      <th>3</th>\n",
              "      <td>01/12/2020</td>\n",
              "      <td>Aposentadoria por Tempo de Contribuição</td>\n",
              "      <td>Falta Tempo Contrib Ate 16/12/1998 ou Até Der</td>\n",
              "      <td>16/06/1963</td>\n",
              "      <td>Masculino</td>\n",
              "      <td>Urbano</td>\n",
              "      <td>Empregado</td>\n",
              "      <td>Alagoas</td>\n",
              "      <td>02/12/2020</td>\n",
              "    </tr>\n",
              "    <tr>\n",
              "      <th>4</th>\n",
              "      <td>01/12/2020</td>\n",
              "      <td>Aposentadoria por Idade</td>\n",
              "      <td>Recebimento Outro Beneficio</td>\n",
              "      <td>27/10/1947</td>\n",
              "      <td>Feminino</td>\n",
              "      <td>Urbano</td>\n",
              "      <td>Facultativo</td>\n",
              "      <td>Alagoas</td>\n",
              "      <td>01/12/2020</td>\n",
              "    </tr>\n",
              "    <tr>\n",
              "      <th>5</th>\n",
              "      <td>01/12/2020</td>\n",
              "      <td>Aposentadoria por Idade</td>\n",
              "      <td>Falta Periodo Carencia (B41,42,46,57,80)</td>\n",
              "      <td>17/10/1959</td>\n",
              "      <td>Feminino</td>\n",
              "      <td>Urbano</td>\n",
              "      <td>Autônomo</td>\n",
              "      <td>Alagoas</td>\n",
              "      <td>02/12/2020</td>\n",
              "    </tr>\n",
              "  </tbody>\n",
              "</table>\n",
              "</div>"
            ],
            "text/plain": [
              "  Competência                                  Espécie  ...       UF Indeferimento\n",
              "1  01/12/2020                  Aposentadoria por Idade  ...  Alagoas    02/12/2020\n",
              "2  01/12/2020  Aposentadoria por Tempo de Contribuição  ...  Alagoas    02/12/2020\n",
              "3  01/12/2020  Aposentadoria por Tempo de Contribuição  ...  Alagoas    02/12/2020\n",
              "4  01/12/2020                  Aposentadoria por Idade  ...  Alagoas    01/12/2020\n",
              "5  01/12/2020                  Aposentadoria por Idade  ...  Alagoas    02/12/2020\n",
              "\n",
              "[5 rows x 9 columns]"
            ]
          },
          "metadata": {
            "tags": []
          },
          "execution_count": 21
        }
      ]
    },
    {
      "cell_type": "markdown",
      "metadata": {
        "id": "czkqyu_Tf7Op"
      },
      "source": [
        "### Criando novo Database a partir das alterações"
      ]
    },
    {
      "cell_type": "code",
      "metadata": {
        "id": "_2Z6vnHDYPfx"
      },
      "source": [
        "#NOVO DATAFRAME\n",
        "database_prev = bnf_inss"
      ],
      "execution_count": null,
      "outputs": []
    },
    {
      "cell_type": "code",
      "metadata": {
        "id": "bIEZRYoUembh"
      },
      "source": [
        "#SALVANDO O NOVO ARQUIVO\n",
        "database_prev.to_csv('database_prev.csv', index=False)"
      ],
      "execution_count": null,
      "outputs": []
    },
    {
      "cell_type": "markdown",
      "metadata": {
        "id": "siNuL0RdPcMv"
      },
      "source": [
        "## Processo concluído."
      ]
    }
  ]
}