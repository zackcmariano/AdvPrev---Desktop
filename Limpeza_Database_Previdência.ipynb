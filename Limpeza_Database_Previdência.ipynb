{
  "nbformat": 4,
  "nbformat_minor": 0,
  "metadata": {
    "colab": {
      "name": "Limpeza Database Previdência",
      "provenance": [],
      "collapsed_sections": [],
      "authorship_tag": "ABX9TyOlZBYK8qvevjMH7Cz3eEEA",
      "include_colab_link": true
    },
    "kernelspec": {
      "display_name": "Python 3",
      "name": "python3"
    }
  },
  "cells": [
    {
      "cell_type": "markdown",
      "metadata": {
        "id": "view-in-github",
        "colab_type": "text"
      },
      "source": [
        "<a href=\"https://colab.research.google.com/github/zackcmariano/AdvPrev---Desktop/blob/main/Limpeza_Database_Previd%C3%AAncia.ipynb\" target=\"_parent\"><img src=\"https://colab.research.google.com/assets/colab-badge.svg\" alt=\"Open In Colab\"/></a>"
      ]
    },
    {
      "cell_type": "markdown",
      "metadata": {
        "id": "Z8AvUsIrNQUL"
      },
      "source": [
        "##Limpando os Dados:\n",
        "\n",
        "\n",
        "**Fonte dos dados Previdenciários:** https://dados.gov.br/dataset/inss-beneficios-indeferidos"
      ]
    },
    {
      "cell_type": "code",
      "metadata": {
        "id": "1wE6bStA-1lz"
      },
      "source": [
        "#IMPORTANDO AS BIBLIOTECAS\n",
        "\n",
        "import pandas as pd\n",
        "import numpy as np"
      ],
      "execution_count": null,
      "outputs": []
    },
    {
      "cell_type": "code",
      "metadata": {
        "id": "meBk73g9_SPM"
      },
      "source": [
        "#CARREGANDO O ARQUIVO ORIGINAL E DELIMITANDO AS COLUNAS\n",
        "bnf = pd.read_csv('https://raw.githubusercontent.com/zackcmariano/AdvPrev---Desktop/main/Obten%C3%A7%C3%A3o%20e%20Limpeza%20(database)/beneficios-indeferidos-12-2020.csv', delimiter=';', names=list(range(9)))"
      ],
      "execution_count": null,
      "outputs": []
    },
    {
      "cell_type": "code",
      "metadata": {
        "id": "7guNOXSB_c9y"
      },
      "source": [
        "#RENOMEANDO AS COLUNAS\n",
        "bnf.rename(columns={0:'Competência',1:'Espécie',2:'Motivo',3:'Nascimento',\n",
        "                   4:'Sexo',5:'Moradia',6:'Filiação',7:'UF',\n",
        "                   8:'Indeferimento'}, inplace = True)"
      ],
      "execution_count": null,
      "outputs": []
    },
    {
      "cell_type": "code",
      "metadata": {
        "colab": {
          "base_uri": "https://localhost:8080/",
          "height": 197
        },
        "id": "w17dSxyhE0zX",
        "outputId": "3cbf6ef8-c10e-44f5-fd6d-01125c694d61"
      },
      "source": [
        "#ANALISANDO AS PRIMEIRAS ENTRADAS\n",
        "bnf.head()"
      ],
      "execution_count": null,
      "outputs": [
        {
          "output_type": "execute_result",
          "data": {
            "text/html": [
              "<div>\n",
              "<style scoped>\n",
              "    .dataframe tbody tr th:only-of-type {\n",
              "        vertical-align: middle;\n",
              "    }\n",
              "\n",
              "    .dataframe tbody tr th {\n",
              "        vertical-align: top;\n",
              "    }\n",
              "\n",
              "    .dataframe thead th {\n",
              "        text-align: right;\n",
              "    }\n",
              "</style>\n",
              "<table border=\"1\" class=\"dataframe\">\n",
              "  <thead>\n",
              "    <tr style=\"text-align: right;\">\n",
              "      <th></th>\n",
              "      <th>Competência</th>\n",
              "      <th>Espécie</th>\n",
              "      <th>Motivo</th>\n",
              "      <th>Nascimento</th>\n",
              "      <th>Sexo</th>\n",
              "      <th>Moradia</th>\n",
              "      <th>Filiação</th>\n",
              "      <th>UF</th>\n",
              "      <th>Indeferimento</th>\n",
              "    </tr>\n",
              "  </thead>\n",
              "  <tbody>\n",
              "    <tr>\n",
              "      <th>0</th>\n",
              "      <td>Competência indeferimento</td>\n",
              "      <td>Espécie</td>\n",
              "      <td>Motivo Indeferimento</td>\n",
              "      <td>Dt Nascimento</td>\n",
              "      <td>Sexo.</td>\n",
              "      <td>Clientela</td>\n",
              "      <td>Forma Filiação</td>\n",
              "      <td>UF</td>\n",
              "      <td>Dt Indeferimento</td>\n",
              "    </tr>\n",
              "    <tr>\n",
              "      <th>1</th>\n",
              "      <td>01/12/2020</td>\n",
              "      <td>Aposentadoria por Idade</td>\n",
              "      <td>Falta Periodo Carencia (B41,42,46,57,80)</td>\n",
              "      <td>08/01/1957</td>\n",
              "      <td>Feminino</td>\n",
              "      <td>Urbano</td>\n",
              "      <td>Autônomo</td>\n",
              "      <td>Alagoas</td>\n",
              "      <td>02/12/2020</td>\n",
              "    </tr>\n",
              "    <tr>\n",
              "      <th>2</th>\n",
              "      <td>01/12/2020</td>\n",
              "      <td>Aposentadoria por Tempo de Contribuição</td>\n",
              "      <td>Falta Tempo Contrib Ate 16/12/1998 ou Até Der</td>\n",
              "      <td>15/02/1965</td>\n",
              "      <td>Masculino</td>\n",
              "      <td>Urbano</td>\n",
              "      <td>Empregado</td>\n",
              "      <td>Alagoas</td>\n",
              "      <td>02/12/2020</td>\n",
              "    </tr>\n",
              "    <tr>\n",
              "      <th>3</th>\n",
              "      <td>01/12/2020</td>\n",
              "      <td>Aposentadoria por Tempo de Contribuição</td>\n",
              "      <td>Falta Tempo Contrib Ate 16/12/1998 ou Até Der</td>\n",
              "      <td>16/06/1963</td>\n",
              "      <td>Masculino</td>\n",
              "      <td>Urbano</td>\n",
              "      <td>Empregado</td>\n",
              "      <td>Alagoas</td>\n",
              "      <td>02/12/2020</td>\n",
              "    </tr>\n",
              "    <tr>\n",
              "      <th>4</th>\n",
              "      <td>01/12/2020</td>\n",
              "      <td>Aposentadoria por Idade</td>\n",
              "      <td>Recebimento Outro Beneficio</td>\n",
              "      <td>27/10/1947</td>\n",
              "      <td>Feminino</td>\n",
              "      <td>Urbano</td>\n",
              "      <td>Facultativo</td>\n",
              "      <td>Alagoas</td>\n",
              "      <td>01/12/2020</td>\n",
              "    </tr>\n",
              "  </tbody>\n",
              "</table>\n",
              "</div>"
            ],
            "text/plain": [
              "                 Competência  ...     Indeferimento\n",
              "0  Competência indeferimento  ...  Dt Indeferimento\n",
              "1                 01/12/2020  ...        02/12/2020\n",
              "2                 01/12/2020  ...        02/12/2020\n",
              "3                 01/12/2020  ...        02/12/2020\n",
              "4                 01/12/2020  ...        01/12/2020\n",
              "\n",
              "[5 rows x 9 columns]"
            ]
          },
          "metadata": {
            "tags": []
          },
          "execution_count": 12
        }
      ]
    },
    {
      "cell_type": "code",
      "metadata": {
        "id": "PqQqsuYPX-um"
      },
      "source": [
        "#EXCLUINDO A PRIMEIRA LINHA \n",
        "bnf_inss = bnf.drop(0)"
      ],
      "execution_count": null,
      "outputs": []
    },
    {
      "cell_type": "code",
      "metadata": {
        "colab": {
          "base_uri": "https://localhost:8080/",
          "height": 197
        },
        "id": "q3AZ1t76YxN7",
        "outputId": "f2c3a148-f87d-4672-e603-66af48a47f0d"
      },
      "source": [
        "#LIMPEZA CONCLUIDA\n",
        "bnf_inss.head()"
      ],
      "execution_count": null,
      "outputs": [
        {
          "output_type": "execute_result",
          "data": {
            "text/html": [
              "<div>\n",
              "<style scoped>\n",
              "    .dataframe tbody tr th:only-of-type {\n",
              "        vertical-align: middle;\n",
              "    }\n",
              "\n",
              "    .dataframe tbody tr th {\n",
              "        vertical-align: top;\n",
              "    }\n",
              "\n",
              "    .dataframe thead th {\n",
              "        text-align: right;\n",
              "    }\n",
              "</style>\n",
              "<table border=\"1\" class=\"dataframe\">\n",
              "  <thead>\n",
              "    <tr style=\"text-align: right;\">\n",
              "      <th></th>\n",
              "      <th>Competência</th>\n",
              "      <th>Espécie</th>\n",
              "      <th>Motivo</th>\n",
              "      <th>Nascimento</th>\n",
              "      <th>Sexo</th>\n",
              "      <th>Moradia</th>\n",
              "      <th>Filiação</th>\n",
              "      <th>UF</th>\n",
              "      <th>Indeferimento</th>\n",
              "    </tr>\n",
              "  </thead>\n",
              "  <tbody>\n",
              "    <tr>\n",
              "      <th>1</th>\n",
              "      <td>01/12/2020</td>\n",
              "      <td>Aposentadoria por Idade</td>\n",
              "      <td>Falta Periodo Carencia (B41,42,46,57,80)</td>\n",
              "      <td>08/01/1957</td>\n",
              "      <td>Feminino</td>\n",
              "      <td>Urbano</td>\n",
              "      <td>Autônomo</td>\n",
              "      <td>Alagoas</td>\n",
              "      <td>02/12/2020</td>\n",
              "    </tr>\n",
              "    <tr>\n",
              "      <th>2</th>\n",
              "      <td>01/12/2020</td>\n",
              "      <td>Aposentadoria por Tempo de Contribuição</td>\n",
              "      <td>Falta Tempo Contrib Ate 16/12/1998 ou Até Der</td>\n",
              "      <td>15/02/1965</td>\n",
              "      <td>Masculino</td>\n",
              "      <td>Urbano</td>\n",
              "      <td>Empregado</td>\n",
              "      <td>Alagoas</td>\n",
              "      <td>02/12/2020</td>\n",
              "    </tr>\n",
              "    <tr>\n",
              "      <th>3</th>\n",
              "      <td>01/12/2020</td>\n",
              "      <td>Aposentadoria por Tempo de Contribuição</td>\n",
              "      <td>Falta Tempo Contrib Ate 16/12/1998 ou Até Der</td>\n",
              "      <td>16/06/1963</td>\n",
              "      <td>Masculino</td>\n",
              "      <td>Urbano</td>\n",
              "      <td>Empregado</td>\n",
              "      <td>Alagoas</td>\n",
              "      <td>02/12/2020</td>\n",
              "    </tr>\n",
              "    <tr>\n",
              "      <th>4</th>\n",
              "      <td>01/12/2020</td>\n",
              "      <td>Aposentadoria por Idade</td>\n",
              "      <td>Recebimento Outro Beneficio</td>\n",
              "      <td>27/10/1947</td>\n",
              "      <td>Feminino</td>\n",
              "      <td>Urbano</td>\n",
              "      <td>Facultativo</td>\n",
              "      <td>Alagoas</td>\n",
              "      <td>01/12/2020</td>\n",
              "    </tr>\n",
              "    <tr>\n",
              "      <th>5</th>\n",
              "      <td>01/12/2020</td>\n",
              "      <td>Aposentadoria por Idade</td>\n",
              "      <td>Falta Periodo Carencia (B41,42,46,57,80)</td>\n",
              "      <td>17/10/1959</td>\n",
              "      <td>Feminino</td>\n",
              "      <td>Urbano</td>\n",
              "      <td>Autônomo</td>\n",
              "      <td>Alagoas</td>\n",
              "      <td>02/12/2020</td>\n",
              "    </tr>\n",
              "  </tbody>\n",
              "</table>\n",
              "</div>"
            ],
            "text/plain": [
              "  Competência                                  Espécie  ...       UF Indeferimento\n",
              "1  01/12/2020                  Aposentadoria por Idade  ...  Alagoas    02/12/2020\n",
              "2  01/12/2020  Aposentadoria por Tempo de Contribuição  ...  Alagoas    02/12/2020\n",
              "3  01/12/2020  Aposentadoria por Tempo de Contribuição  ...  Alagoas    02/12/2020\n",
              "4  01/12/2020                  Aposentadoria por Idade  ...  Alagoas    01/12/2020\n",
              "5  01/12/2020                  Aposentadoria por Idade  ...  Alagoas    02/12/2020\n",
              "\n",
              "[5 rows x 9 columns]"
            ]
          },
          "metadata": {
            "tags": []
          },
          "execution_count": 14
        }
      ]
    },
    {
      "cell_type": "markdown",
      "metadata": {
        "id": "siNuL0RdPcMv"
      },
      "source": [
        "## Limpeza concluida."
      ]
    }
  ]
}