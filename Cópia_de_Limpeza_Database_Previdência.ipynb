{
  "nbformat": 4,
  "nbformat_minor": 0,
  "metadata": {
    "colab": {
      "name": "Cópia de Limpeza Database Previdência",
      "provenance": [],
      "collapsed_sections": [],
      "toc_visible": true,
      "authorship_tag": "ABX9TyNSvO3phHdBGl/I/lSSC0BK",
      "include_colab_link": true
    },
    "kernelspec": {
      "display_name": "Python 3",
      "name": "python3"
    }
  },
  "cells": [
    {
      "cell_type": "markdown",
      "metadata": {
        "id": "view-in-github",
        "colab_type": "text"
      },
      "source": [
        "<a href=\"https://colab.research.google.com/github/zackcmariano/AdvPrev---Desktop/blob/main/C%C3%B3pia_de_Limpeza_Database_Previd%C3%AAncia.ipynb\" target=\"_parent\"><img src=\"https://colab.research.google.com/assets/colab-badge.svg\" alt=\"Open In Colab\"/></a>"
      ]
    },
    {
      "cell_type": "markdown",
      "metadata": {
        "id": "Z8AvUsIrNQUL"
      },
      "source": [
        "##Limpando os Dados:\n",
        "\n",
        "\n",
        "**Fonte dos dados Previdenciários:** https://dados.gov.br/dataset/inss-beneficios-indeferidos"
      ]
    },
    {
      "cell_type": "code",
      "metadata": {
        "id": "1wE6bStA-1lz"
      },
      "source": [
        "#IMPORTANDO AS BIBLIOTECAS\n",
        "\n",
        "import pandas as pd\n",
        "import numpy as np"
      ],
      "execution_count": 1,
      "outputs": []
    },
    {
      "cell_type": "code",
      "metadata": {
        "id": "meBk73g9_SPM"
      },
      "source": [
        "#CARREGANDO O ARQUIVO ORIGINAL E DELIMITANDO AS COLUNAS\n",
        "bnf = pd.read_csv('https://raw.githubusercontent.com/zackcmariano/AdvPrev---Desktop/main/Obten%C3%A7%C3%A3o%20e%20Limpeza%20(database)/beneficios-indeferidos-12-2020.csv', delimiter=';', names=list(range(9)))"
      ],
      "execution_count": 2,
      "outputs": []
    },
    {
      "cell_type": "code",
      "metadata": {
        "id": "7guNOXSB_c9y"
      },
      "source": [
        "#RENOMEANDO AS COLUNAS\n",
        "bnf.rename(columns={0:'Competência',1:'Espécie',2:'Motivo',3:'Nascimento',\n",
        "                   4:'Sexo',5:'Moradia',6:'Filiação',7:'UF',\n",
        "                   8:'Indeferimento'}, inplace = True)"
      ],
      "execution_count": 3,
      "outputs": []
    },
    {
      "cell_type": "code",
      "metadata": {
        "colab": {
          "base_uri": "https://localhost:8080/",
          "height": 264
        },
        "id": "w17dSxyhE0zX",
        "outputId": "a2c80a2e-9fc3-4341-df06-8d14b9c7f194"
      },
      "source": [
        "#ANALISANDO AS PRIMEIRAS ENTRADAS\n",
        "bnf.head()"
      ],
      "execution_count": 4,
      "outputs": [
        {
          "output_type": "execute_result",
          "data": {
            "text/html": [
              "<div>\n",
              "<style scoped>\n",
              "    .dataframe tbody tr th:only-of-type {\n",
              "        vertical-align: middle;\n",
              "    }\n",
              "\n",
              "    .dataframe tbody tr th {\n",
              "        vertical-align: top;\n",
              "    }\n",
              "\n",
              "    .dataframe thead th {\n",
              "        text-align: right;\n",
              "    }\n",
              "</style>\n",
              "<table border=\"1\" class=\"dataframe\">\n",
              "  <thead>\n",
              "    <tr style=\"text-align: right;\">\n",
              "      <th></th>\n",
              "      <th>Competência</th>\n",
              "      <th>Espécie</th>\n",
              "      <th>Motivo</th>\n",
              "      <th>Nascimento</th>\n",
              "      <th>Sexo</th>\n",
              "      <th>Moradia</th>\n",
              "      <th>Filiação</th>\n",
              "      <th>UF</th>\n",
              "      <th>Indeferimento</th>\n",
              "    </tr>\n",
              "  </thead>\n",
              "  <tbody>\n",
              "    <tr>\n",
              "      <th>0</th>\n",
              "      <td>Competência indeferimento</td>\n",
              "      <td>Espécie</td>\n",
              "      <td>Motivo Indeferimento</td>\n",
              "      <td>Dt Nascimento</td>\n",
              "      <td>Sexo.</td>\n",
              "      <td>Clientela</td>\n",
              "      <td>Forma Filiação</td>\n",
              "      <td>UF</td>\n",
              "      <td>Dt Indeferimento</td>\n",
              "    </tr>\n",
              "    <tr>\n",
              "      <th>1</th>\n",
              "      <td>01/12/2020</td>\n",
              "      <td>Aposentadoria por Idade</td>\n",
              "      <td>Falta Periodo Carencia (B41,42,46,57,80)</td>\n",
              "      <td>08/01/1957</td>\n",
              "      <td>Feminino</td>\n",
              "      <td>Urbano</td>\n",
              "      <td>Autônomo</td>\n",
              "      <td>Alagoas</td>\n",
              "      <td>02/12/2020</td>\n",
              "    </tr>\n",
              "    <tr>\n",
              "      <th>2</th>\n",
              "      <td>01/12/2020</td>\n",
              "      <td>Aposentadoria por Tempo de Contribuição</td>\n",
              "      <td>Falta Tempo Contrib Ate 16/12/1998 ou Até Der</td>\n",
              "      <td>15/02/1965</td>\n",
              "      <td>Masculino</td>\n",
              "      <td>Urbano</td>\n",
              "      <td>Empregado</td>\n",
              "      <td>Alagoas</td>\n",
              "      <td>02/12/2020</td>\n",
              "    </tr>\n",
              "    <tr>\n",
              "      <th>3</th>\n",
              "      <td>01/12/2020</td>\n",
              "      <td>Aposentadoria por Tempo de Contribuição</td>\n",
              "      <td>Falta Tempo Contrib Ate 16/12/1998 ou Até Der</td>\n",
              "      <td>16/06/1963</td>\n",
              "      <td>Masculino</td>\n",
              "      <td>Urbano</td>\n",
              "      <td>Empregado</td>\n",
              "      <td>Alagoas</td>\n",
              "      <td>02/12/2020</td>\n",
              "    </tr>\n",
              "    <tr>\n",
              "      <th>4</th>\n",
              "      <td>01/12/2020</td>\n",
              "      <td>Aposentadoria por Idade</td>\n",
              "      <td>Recebimento Outro Beneficio</td>\n",
              "      <td>27/10/1947</td>\n",
              "      <td>Feminino</td>\n",
              "      <td>Urbano</td>\n",
              "      <td>Facultativo</td>\n",
              "      <td>Alagoas</td>\n",
              "      <td>01/12/2020</td>\n",
              "    </tr>\n",
              "  </tbody>\n",
              "</table>\n",
              "</div>"
            ],
            "text/plain": [
              "                 Competência  ...     Indeferimento\n",
              "0  Competência indeferimento  ...  Dt Indeferimento\n",
              "1                 01/12/2020  ...        02/12/2020\n",
              "2                 01/12/2020  ...        02/12/2020\n",
              "3                 01/12/2020  ...        02/12/2020\n",
              "4                 01/12/2020  ...        01/12/2020\n",
              "\n",
              "[5 rows x 9 columns]"
            ]
          },
          "metadata": {
            "tags": []
          },
          "execution_count": 4
        }
      ]
    },
    {
      "cell_type": "code",
      "metadata": {
        "id": "PqQqsuYPX-um"
      },
      "source": [
        "#EXCLUINDO A PRIMEIRA LINHA \n",
        "bnf_inss = bnf.drop(0)"
      ],
      "execution_count": 5,
      "outputs": []
    },
    {
      "cell_type": "code",
      "metadata": {
        "colab": {
          "base_uri": "https://localhost:8080/",
          "height": 264
        },
        "id": "q3AZ1t76YxN7",
        "outputId": "196107c9-3bc5-46f0-90c6-5e3824234bcc"
      },
      "source": [
        "#LIMPEZA CONCLUÍDA\n",
        "bnf_inss.head()"
      ],
      "execution_count": 6,
      "outputs": [
        {
          "output_type": "execute_result",
          "data": {
            "text/html": [
              "<div>\n",
              "<style scoped>\n",
              "    .dataframe tbody tr th:only-of-type {\n",
              "        vertical-align: middle;\n",
              "    }\n",
              "\n",
              "    .dataframe tbody tr th {\n",
              "        vertical-align: top;\n",
              "    }\n",
              "\n",
              "    .dataframe thead th {\n",
              "        text-align: right;\n",
              "    }\n",
              "</style>\n",
              "<table border=\"1\" class=\"dataframe\">\n",
              "  <thead>\n",
              "    <tr style=\"text-align: right;\">\n",
              "      <th></th>\n",
              "      <th>Competência</th>\n",
              "      <th>Espécie</th>\n",
              "      <th>Motivo</th>\n",
              "      <th>Nascimento</th>\n",
              "      <th>Sexo</th>\n",
              "      <th>Moradia</th>\n",
              "      <th>Filiação</th>\n",
              "      <th>UF</th>\n",
              "      <th>Indeferimento</th>\n",
              "    </tr>\n",
              "  </thead>\n",
              "  <tbody>\n",
              "    <tr>\n",
              "      <th>1</th>\n",
              "      <td>01/12/2020</td>\n",
              "      <td>Aposentadoria por Idade</td>\n",
              "      <td>Falta Periodo Carencia (B41,42,46,57,80)</td>\n",
              "      <td>08/01/1957</td>\n",
              "      <td>Feminino</td>\n",
              "      <td>Urbano</td>\n",
              "      <td>Autônomo</td>\n",
              "      <td>Alagoas</td>\n",
              "      <td>02/12/2020</td>\n",
              "    </tr>\n",
              "    <tr>\n",
              "      <th>2</th>\n",
              "      <td>01/12/2020</td>\n",
              "      <td>Aposentadoria por Tempo de Contribuição</td>\n",
              "      <td>Falta Tempo Contrib Ate 16/12/1998 ou Até Der</td>\n",
              "      <td>15/02/1965</td>\n",
              "      <td>Masculino</td>\n",
              "      <td>Urbano</td>\n",
              "      <td>Empregado</td>\n",
              "      <td>Alagoas</td>\n",
              "      <td>02/12/2020</td>\n",
              "    </tr>\n",
              "    <tr>\n",
              "      <th>3</th>\n",
              "      <td>01/12/2020</td>\n",
              "      <td>Aposentadoria por Tempo de Contribuição</td>\n",
              "      <td>Falta Tempo Contrib Ate 16/12/1998 ou Até Der</td>\n",
              "      <td>16/06/1963</td>\n",
              "      <td>Masculino</td>\n",
              "      <td>Urbano</td>\n",
              "      <td>Empregado</td>\n",
              "      <td>Alagoas</td>\n",
              "      <td>02/12/2020</td>\n",
              "    </tr>\n",
              "    <tr>\n",
              "      <th>4</th>\n",
              "      <td>01/12/2020</td>\n",
              "      <td>Aposentadoria por Idade</td>\n",
              "      <td>Recebimento Outro Beneficio</td>\n",
              "      <td>27/10/1947</td>\n",
              "      <td>Feminino</td>\n",
              "      <td>Urbano</td>\n",
              "      <td>Facultativo</td>\n",
              "      <td>Alagoas</td>\n",
              "      <td>01/12/2020</td>\n",
              "    </tr>\n",
              "    <tr>\n",
              "      <th>5</th>\n",
              "      <td>01/12/2020</td>\n",
              "      <td>Aposentadoria por Idade</td>\n",
              "      <td>Falta Periodo Carencia (B41,42,46,57,80)</td>\n",
              "      <td>17/10/1959</td>\n",
              "      <td>Feminino</td>\n",
              "      <td>Urbano</td>\n",
              "      <td>Autônomo</td>\n",
              "      <td>Alagoas</td>\n",
              "      <td>02/12/2020</td>\n",
              "    </tr>\n",
              "  </tbody>\n",
              "</table>\n",
              "</div>"
            ],
            "text/plain": [
              "  Competência                                  Espécie  ...       UF Indeferimento\n",
              "1  01/12/2020                  Aposentadoria por Idade  ...  Alagoas    02/12/2020\n",
              "2  01/12/2020  Aposentadoria por Tempo de Contribuição  ...  Alagoas    02/12/2020\n",
              "3  01/12/2020  Aposentadoria por Tempo de Contribuição  ...  Alagoas    02/12/2020\n",
              "4  01/12/2020                  Aposentadoria por Idade  ...  Alagoas    01/12/2020\n",
              "5  01/12/2020                  Aposentadoria por Idade  ...  Alagoas    02/12/2020\n",
              "\n",
              "[5 rows x 9 columns]"
            ]
          },
          "metadata": {
            "tags": []
          },
          "execution_count": 6
        }
      ]
    },
    {
      "cell_type": "markdown",
      "metadata": {
        "id": "czkqyu_Tf7Op"
      },
      "source": [
        "### Criando novo Database a partir das alterações"
      ]
    },
    {
      "cell_type": "code",
      "metadata": {
        "id": "_2Z6vnHDYPfx"
      },
      "source": [
        "#NOVO DATAFRAME\n",
        "database_prev = bnf_inss"
      ],
      "execution_count": 10,
      "outputs": []
    },
    {
      "cell_type": "code",
      "metadata": {
        "colab": {
          "base_uri": "https://localhost:8080/"
        },
        "id": "UtFdnpSTr6Xt",
        "outputId": "b61c9fd6-63b7-4a1f-e946-a44068e4c6e6"
      },
      "source": [
        "#TOTAL DE ENTRADAS NO DATAFRAME\n",
        "database_prev.count()"
      ],
      "execution_count": 14,
      "outputs": [
        {
          "output_type": "execute_result",
          "data": {
            "text/plain": [
              "Competência      374415\n",
              "Espécie          374415\n",
              "Motivo           374415\n",
              "Nascimento       374380\n",
              "Sexo             374415\n",
              "Moradia          374415\n",
              "Filiação         374415\n",
              "UF               374415\n",
              "Indeferimento    374415\n",
              "dtype: int64"
            ]
          },
          "metadata": {
            "tags": []
          },
          "execution_count": 14
        }
      ]
    },
    {
      "cell_type": "code",
      "metadata": {
        "id": "usYKzddYvSPZ"
      },
      "source": [
        "motivos = database_prev['Motivo'].value_counts().head(5)"
      ],
      "execution_count": 8,
      "outputs": []
    },
    {
      "cell_type": "code",
      "metadata": {
        "colab": {
          "base_uri": "https://localhost:8080/"
        },
        "id": "ffpwuZ1-0ZdB",
        "outputId": "0670311f-5a67-4913-d48a-c36e26225f98"
      },
      "source": [
        "motivos.head(5)\n"
      ],
      "execution_count": 9,
      "outputs": [
        {
          "output_type": "execute_result",
          "data": {
            "text/plain": [
              "Parecer Contrario Pericia Medica                                                                        51311\n",
              "Falta de Requisitos p/Direito Às Regras de Transição Emenda Constitucional No.103 ou Falta de Direit    29387\n",
              "Não Apresentação ou Conformação dos Dados Contidos no Atestado Médico                                   22595\n",
              "Nao Enquadramento Art 20 §3 Lei 8742/93.                                                                21560\n",
              "Falta Periodo de Inscricao ou Atualizacao dos Dados do Cad Unico.                                       21227\n",
              "Name: Motivo, dtype: int64"
            ]
          },
          "metadata": {
            "tags": []
          },
          "execution_count": 9
        }
      ]
    },
    {
      "cell_type": "code",
      "metadata": {
        "id": "ov_rmft2CHtm"
      },
      "source": [
        "dataframe = {'id_motivo': ['1', '2', '3', '4', '5'],\n",
        "             'quantos': ['51311', '29387', '22595', '21560', '21227']}"
      ],
      "execution_count": null,
      "outputs": []
    },
    {
      "cell_type": "code",
      "metadata": {
        "id": "A1VWn4XVDX8W"
      },
      "source": [
        "motivo = pd.DataFrame(dataframe)"
      ],
      "execution_count": null,
      "outputs": []
    },
    {
      "cell_type": "code",
      "metadata": {
        "colab": {
          "base_uri": "https://localhost:8080/",
          "height": 197
        },
        "id": "LmE7WgepDpGh",
        "outputId": "9da00b92-21ce-43eb-935a-75b3a4557135"
      },
      "source": [
        "motivo.head()"
      ],
      "execution_count": null,
      "outputs": [
        {
          "output_type": "execute_result",
          "data": {
            "text/html": [
              "<div>\n",
              "<style scoped>\n",
              "    .dataframe tbody tr th:only-of-type {\n",
              "        vertical-align: middle;\n",
              "    }\n",
              "\n",
              "    .dataframe tbody tr th {\n",
              "        vertical-align: top;\n",
              "    }\n",
              "\n",
              "    .dataframe thead th {\n",
              "        text-align: right;\n",
              "    }\n",
              "</style>\n",
              "<table border=\"1\" class=\"dataframe\">\n",
              "  <thead>\n",
              "    <tr style=\"text-align: right;\">\n",
              "      <th></th>\n",
              "      <th>id_motivo</th>\n",
              "      <th>quantos</th>\n",
              "    </tr>\n",
              "  </thead>\n",
              "  <tbody>\n",
              "    <tr>\n",
              "      <th>0</th>\n",
              "      <td>1</td>\n",
              "      <td>51311</td>\n",
              "    </tr>\n",
              "    <tr>\n",
              "      <th>1</th>\n",
              "      <td>2</td>\n",
              "      <td>29387</td>\n",
              "    </tr>\n",
              "    <tr>\n",
              "      <th>2</th>\n",
              "      <td>3</td>\n",
              "      <td>22595</td>\n",
              "    </tr>\n",
              "    <tr>\n",
              "      <th>3</th>\n",
              "      <td>4</td>\n",
              "      <td>21560</td>\n",
              "    </tr>\n",
              "    <tr>\n",
              "      <th>4</th>\n",
              "      <td>5</td>\n",
              "      <td>21227</td>\n",
              "    </tr>\n",
              "  </tbody>\n",
              "</table>\n",
              "</div>"
            ],
            "text/plain": [
              "  id_motivo quantos\n",
              "0         1   51311\n",
              "1         2   29387\n",
              "2         3   22595\n",
              "3         4   21560\n",
              "4         5   21227"
            ]
          },
          "metadata": {
            "tags": []
          },
          "execution_count": 76
        }
      ]
    },
    {
      "cell_type": "code",
      "metadata": {
        "id": "tWo6uQRGD4s0"
      },
      "source": [
        "motivo.to_csv('motivo.csv', index=False)"
      ],
      "execution_count": null,
      "outputs": []
    },
    {
      "cell_type": "code",
      "metadata": {
        "id": "yKNd1LHJ556l"
      },
      "source": [
        "import matplotlib.pyplot as plt\n"
      ],
      "execution_count": null,
      "outputs": []
    },
    {
      "cell_type": "code",
      "metadata": {
        "colab": {
          "base_uri": "https://localhost:8080/",
          "height": 281
        },
        "id": "-u3dFV1y9-jN",
        "outputId": "465ab45e-037d-477a-d976-97b45e7d9275"
      },
      "source": [
        "x = (1, 2, 3)\n",
        "y = (51000, 29387, 35000)\n",
        "plt.bar(x , y)"
      ],
      "execution_count": null,
      "outputs": [
        {
          "output_type": "execute_result",
          "data": {
            "text/plain": [
              "<BarContainer object of 3 artists>"
            ]
          },
          "metadata": {
            "tags": []
          },
          "execution_count": 123
        },
        {
          "output_type": "display_data",
          "data": {
            "image/png": "[encoded data removed]",
            "text/plain": [
              "<Figure size 432x288 with 1 Axes>"
            ]
          },
          "metadata": {
            "tags": [],
            "needs_background": "light"
          }
        }
      ]
    },
    {
      "cell_type": "code",
      "metadata": {
        "colab": {
          "base_uri": "https://localhost:8080/"
        },
        "id": "K0jpOqBryLnD",
        "outputId": "781e01da-afa8-41e4-cce7-1a3c4019b318"
      },
      "source": [
        "database_prev['UF'].value_counts().head(5)"
      ],
      "execution_count": null,
      "outputs": [
        {
          "output_type": "execute_result",
          "data": {
            "text/plain": [
              "Distrito Federal     84450\n",
              "São Paulo            68493\n",
              "Minas Gerais         33464\n",
              "Rio Grande do Sul    26534\n",
              "Bahia                21837\n",
              "Name: UF, dtype: int64"
            ]
          },
          "metadata": {
            "tags": []
          },
          "execution_count": 79
        }
      ]
    },
    {
      "cell_type": "code",
      "metadata": {
        "id": "vmxILFInFPto"
      },
      "source": [
        "dataframe = {'id_UF': ['1', '2', '3', '4', '5'],\n",
        "             'quantos': ['84450', '68493', '33464', '26534', '21837']}"
      ],
      "execution_count": null,
      "outputs": []
    },
    {
      "cell_type": "code",
      "metadata": {
        "id": "MlYdFWFoFuhD"
      },
      "source": [
        "uf = pd.DataFrame(dataframe)"
      ],
      "execution_count": null,
      "outputs": []
    },
    {
      "cell_type": "code",
      "metadata": {
        "colab": {
          "base_uri": "https://localhost:8080/",
          "height": 197
        },
        "id": "tLf-wB5xGASI",
        "outputId": "588ec4ce-b159-4fbf-a0e7-f4161b198e8e"
      },
      "source": [
        "uf.head()"
      ],
      "execution_count": null,
      "outputs": [
        {
          "output_type": "execute_result",
          "data": {
            "text/html": [
              "<div>\n",
              "<style scoped>\n",
              "    .dataframe tbody tr th:only-of-type {\n",
              "        vertical-align: middle;\n",
              "    }\n",
              "\n",
              "    .dataframe tbody tr th {\n",
              "        vertical-align: top;\n",
              "    }\n",
              "\n",
              "    .dataframe thead th {\n",
              "        text-align: right;\n",
              "    }\n",
              "</style>\n",
              "<table border=\"1\" class=\"dataframe\">\n",
              "  <thead>\n",
              "    <tr style=\"text-align: right;\">\n",
              "      <th></th>\n",
              "      <th>id_UF</th>\n",
              "      <th>quantos</th>\n",
              "    </tr>\n",
              "  </thead>\n",
              "  <tbody>\n",
              "    <tr>\n",
              "      <th>0</th>\n",
              "      <td>1</td>\n",
              "      <td>84450</td>\n",
              "    </tr>\n",
              "    <tr>\n",
              "      <th>1</th>\n",
              "      <td>2</td>\n",
              "      <td>68493</td>\n",
              "    </tr>\n",
              "    <tr>\n",
              "      <th>2</th>\n",
              "      <td>3</td>\n",
              "      <td>33464</td>\n",
              "    </tr>\n",
              "    <tr>\n",
              "      <th>3</th>\n",
              "      <td>4</td>\n",
              "      <td>26534</td>\n",
              "    </tr>\n",
              "    <tr>\n",
              "      <th>4</th>\n",
              "      <td>5</td>\n",
              "      <td>21837</td>\n",
              "    </tr>\n",
              "  </tbody>\n",
              "</table>\n",
              "</div>"
            ],
            "text/plain": [
              "  id_UF quantos\n",
              "0     1   84450\n",
              "1     2   68493\n",
              "2     3   33464\n",
              "3     4   26534\n",
              "4     5   21837"
            ]
          },
          "metadata": {
            "tags": []
          },
          "execution_count": 129
        }
      ]
    },
    {
      "cell_type": "code",
      "metadata": {
        "colab": {
          "base_uri": "https://localhost:8080/",
          "height": 281
        },
        "id": "Vmx6N6pzG5MZ",
        "outputId": "5d405ce7-8921-402f-d8fc-8ad00915e171"
      },
      "source": [
        "x = uf.id_UF\n",
        "y = uf.quantos\n",
        "\n",
        "plt.bar(x, y)"
      ],
      "execution_count": null,
      "outputs": [
        {
          "output_type": "execute_result",
          "data": {
            "text/plain": [
              "<BarContainer object of 5 artists>"
            ]
          },
          "metadata": {
            "tags": []
          },
          "execution_count": 117
        },
        {
          "output_type": "display_data",
          "data": {
            "image/png": "[encoded data removed]",
            "text/plain": [
              "<Figure size 432x288 with 1 Axes>"
            ]
          },
          "metadata": {
            "tags": [],
            "needs_background": "light"
          }
        }
      ]
    },
    {
      "cell_type": "code",
      "metadata": {
        "id": "iAihPjufGMPw"
      },
      "source": [
        "uf.to_csv('uf.csv', index=False)"
      ],
      "execution_count": null,
      "outputs": []
    },
    {
      "cell_type": "code",
      "metadata": {
        "colab": {
          "base_uri": "https://localhost:8080/"
        },
        "id": "BxvdydcVyhiM",
        "outputId": "739ec89f-82b8-4369-aff6-f6d299b131e1"
      },
      "source": [
        "database_prev.loc[database_prev['UF']=='Bahia','Motivo'].value_counts().head(5)"
      ],
      "execution_count": null,
      "outputs": [
        {
          "output_type": "execute_result",
          "data": {
            "text/plain": [
              "Parecer Contrario Pericia Medica                                                                        3782\n",
              "Falta Comprovação Atividade Rural em Números Iguais Carencia Nb                                         1800\n",
              "Perda de Qualidade do Segurado                                                                          1355\n",
              "Falta Tempo Contrib Ate 16/12/1998 ou Até Der                                                           1243\n",
              "Falta de Requisitos p/Direito Às Regras de Transição Emenda Constitucional No.103 ou Falta de Direit    1109\n",
              "Name: Motivo, dtype: int64"
            ]
          },
          "metadata": {
            "tags": []
          },
          "execution_count": 15
        }
      ]
    },
    {
      "cell_type": "code",
      "metadata": {
        "colab": {
          "base_uri": "https://localhost:8080/"
        },
        "id": "3o1sQvf8zLDk",
        "outputId": "55014e6e-ebcd-4753-9f11-b0dc9a212dff"
      },
      "source": [
        "database_prev.loc[database_prev['UF']=='Distrito Federal','Motivo'].value_counts().head(5)"
      ],
      "execution_count": null,
      "outputs": [
        {
          "output_type": "execute_result",
          "data": {
            "text/plain": [
              "Nao Enquadramento Art 20 §3 Lei 8742/93.                                                                12636\n",
              "Falta Periodo de Inscricao ou Atualizacao dos Dados do Cad Unico.                                       12432\n",
              "Não Apresentação ou Conformação dos Dados Contidos no Atestado Médico                                    8597\n",
              "Falta de Requisitos p/Direito Às Regras de Transição Emenda Constitucional No.103 ou Falta de Direit     7328\n",
              "Nao Atende ao Criterio de Deficiencia para Acesso ao Bpc-Loas                                            5054\n",
              "Name: Motivo, dtype: int64"
            ]
          },
          "metadata": {
            "tags": []
          },
          "execution_count": 19
        }
      ]
    },
    {
      "cell_type": "code",
      "metadata": {
        "id": "cT1h6WHizJX7"
      },
      "source": [
        ""
      ],
      "execution_count": null,
      "outputs": []
    },
    {
      "cell_type": "code",
      "metadata": {
        "id": "bIEZRYoUembh"
      },
      "source": [
        "#SALVANDO O NOVO ARQUIVO\n",
        "database_prev.to_csv('database_prev.csv', index=False)"
      ],
      "execution_count": null,
      "outputs": []
    },
    {
      "cell_type": "markdown",
      "metadata": {
        "id": "siNuL0RdPcMv"
      },
      "source": [
        "## Processo concluído."
      ]
    }
  ]
}